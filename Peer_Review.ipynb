{
 "cells": [
  {
   "cell_type": "markdown",
   "metadata": {},
   "source": [
    "# Data Science Tools and Ecosystem"
   ]
  },
  {
   "cell_type": "markdown",
   "metadata": {},
   "source": [
    "## Introduction\n",
    "\n",
    "Welcome to this notebook! This notebook provides a summary of key concepts and tools used in the field of Data Science. We will explore popular languages, libraries, and tools, as well as demonstrate some basic arithmetic operations using Python. 🧑‍💻"
   ]
  },
  {
   "cell_type": "markdown",
   "metadata": {},
   "source": [
    "## Data Science Languages\n",
    "\n",
    "Some of the most popular languages that Data Scientists use are:\n",
    "\n",
    "1.  Python\n",
    "2.  R\n",
    "3.  SQL\n",
    "4.  Julia\n",
    "5.  Java\n",
    "6.  Scala"
   ]
  },
  {
   "cell_type": "markdown",
   "metadata": {},
   "source": [
    "## Data Science Libraries\n",
    "\n",
    "Here are some commonly used libraries in Data Science:\n",
    "\n",
    "1.  **Pandas** (for data manipulation and analysis)\n",
    "2.  **NumPy** (for numerical computation)\n",
    "3.  **Matplotlib** (for data visualization)\n",
    "4.  **Seaborn** (for statistical data visualization)\n",
    "5.  **Scikit-learn** (for machine learning)\n",
    "6.  **TensorFlow** (for deep learning)\n",
    "7.  **PyTorch** (for deep learning)"
   ]
  },
  {
   "cell_type": "markdown",
   "metadata": {},
   "source": [
    "## Data Science Tools\n",
    "\n",
    "| Tool Category              | Examples                                   |\n",
    "| :------------------------- | :----------------------------------------- |\n",
    "| **Development Environments** | Jupyter Notebook, RStudio, VS Code         |\n",
    "| **Data Visualization** | Tableau, Power BI, D3.js                   |\n",
    "| **Cloud Platforms** | AWS, Google Cloud Platform, Microsoft Azure|"
   ]
  },
  {
   "cell_type": "markdown",
   "metadata": {},
   "source": [
    "### Arithmetic Expression Examples\n",
    "\n",
    "Below are a few examples of evaluating arithmetic expressions in Python. These examples will show basic operations like multiplication and addition, as well as unit conversions."
   ]
  },
  {
   "cell_type": "code",
   "execution_count": 1,
   "metadata": {},
   "outputs": [
    {
     "name": "stdout",
     "output_type": "stream",
     "text": [
      "17\n"
     ]
    }
   ],
   "source": [
    "# This is a simple arithmetic expression to multiply then add integers.\n",
    "result = (3 * 4) + 5\n",
    "print(result)"
   ]
  },
  {
   "cell_type": "code",
   "execution_count": 2,
   "metadata": {},
   "outputs": [
    {
     "name": "stdout",
     "output_type": "stream",
     "text": [
      "200 minutes is equal to 3.3333333333333335 hours.\n"
     ]
    }
   ],
   "source": [
    "# This code cell will convert 200 minutes into hours by dividing by 60.\n",
    "minutes = 200\n",
    "hours = minutes / 60\n",
    "print(f\"{minutes} minutes is equal to {hours} hours.\")"
   ]
  },
  {
   "cell_type": "markdown",
   "metadata": {},
   "source": [
    "## Objectives\n",
    "\n",
    "* List popular languages for Data Science.\n",
    "* Identify commonly used Data Science libraries.\n",
    "* Create a table of Data Science tools.\n",
    "* Execute simple arithmetic operations in a code cell.\n",
    "* Practice formatting content using markdown."
   ]
  },
  {
   "cell_type": "markdown",
   "metadata": {},
   "source": [
    "## Author\n",
    "\n",
    "V Vinayak\n"
   ]
  }
 ],
 "metadata": {
  "kernelspec": {
   "display_name": "Python 3",
   "language": "python",
   "name": "python3"
  },
  "language_info": {
   "codemirror_mode": {
    "name": "ipython",
    "version": 3
   },
   "file_extension": ".py",
   "mimetype": "text/x-python",
   "name": "python",
   "nbconvert_exporter": "python",
   "pygments_lexer": "ipython3",
   "version": "3.9.7"
  }
 },
 "nbformat": 4,
 "nbformat_minor": 5
}
